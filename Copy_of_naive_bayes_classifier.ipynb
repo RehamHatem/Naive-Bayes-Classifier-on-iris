{
  "nbformat": 4,
  "nbformat_minor": 0,
  "metadata": {
    "colab": {
      "provenance": []
    },
    "kernelspec": {
      "name": "python3",
      "display_name": "Python 3"
    },
    "language_info": {
      "name": "python"
    }
  },
  "cells": [
    {
      "cell_type": "code",
      "execution_count": null,
      "metadata": {
        "colab": {
          "base_uri": "https://localhost:8080/"
        },
        "id": "6FrJQPDeXn0M",
        "outputId": "74db757f-b477-4cfa-b33d-074bdd92efe8"
      },
      "outputs": [
        {
          "output_type": "stream",
          "name": "stdout",
          "text": [
            "Accuracy using extracted features: 0.7333333333333333\n"
          ]
        }
      ],
      "source": [
        "from sklearn.datasets import load_iris\n",
        "import numpy as np\n",
        "\n",
        "# Load the iris dataset\n",
        "iris = load_iris()\n",
        "X = iris.data\n",
        "y = iris.target\n",
        "\n",
        "# Split the dataset into training and testing sets\n",
        "np.random.seed(42)  # for reproducibility\n",
        "indices = np.random.permutation(len(X))\n",
        "X_train = X[indices[:-30]]\n",
        "X_test = X[indices[-30:]]\n",
        "y_train = y[indices[:-30]]\n",
        "y_test = y[indices[-30:]]\n",
        "\n",
        "# Normalize the data\n",
        "def normalize_data(data):\n",
        "    mean = np.mean(data, axis=0)\n",
        "    std = np.std(data, axis=0)\n",
        "    normalized_data = (data - mean) / std\n",
        "    return normalized_data\n",
        "\n",
        "X_train_normalized = normalize_data(X_train)\n",
        "X_test_normalized = normalize_data(X_test)\n",
        "\n",
        "# Define a function to calculate mean\n",
        "def calculate_mean(data):\n",
        "    return np.sum(data) / len(data)\n",
        "\n",
        "# Define a function to calculate standard deviation\n",
        "def calculate_std(data):\n",
        "    mean = calculate_mean(data)\n",
        "    variance = np.sum((data - mean)**2) / len(data)\n",
        "    return np.sqrt(variance)\n",
        "\n",
        "# Define a function to calculate range\n",
        "def calculate_range(data):\n",
        "    return np.max(data) - np.min(data)\n",
        "\n",
        "# Define a function to extract features\n",
        "def extract_features(data):\n",
        "    mean = calculate_mean(data)\n",
        "    std = calculate_std(data)\n",
        "    rng = calculate_range(data)\n",
        "    return [mean, std, rng]\n",
        "\n",
        "# Extract features for each feature in the dataset\n",
        "X_train_extracted = np.array([extract_features(feature) for feature in X_train_normalized])\n",
        "X_test_extracted = np.array([extract_features(feature) for feature in X_test_normalized])\n",
        "\n",
        "# Naive Bayes Classifier\n",
        "def fit_naive_bayes(X_train, y_train):\n",
        "    classes = np.unique(y_train)\n",
        "    prior = []\n",
        "    mean = []\n",
        "    std = []\n",
        "\n",
        "    for c in classes:\n",
        "        X_c = X_train[y_train == c]\n",
        "        prior.append(len(X_c) / len(X_train))\n",
        "        mean.append(np.mean(X_c, axis=0))\n",
        "        std.append(np.std(X_c, axis=0))\n",
        "\n",
        "    return prior, mean, std\n",
        "\n",
        "def predict_naive_bayes(X_test, prior, mean, std):\n",
        "    y_pred = []\n",
        "    for x in X_test:\n",
        "        probabilities = []\n",
        "        for c in range(len(prior)):\n",
        "            probability = prior[c]\n",
        "            for i in range(len(x)):\n",
        "                probability *= 1 / (np.sqrt(2 * np.pi) * std[c][i]) * np.exp(-(x[i] - mean[c][i])**2 / (2 * std[c][i]**2))\n",
        "            probabilities.append(probability)\n",
        "        y_pred.append(np.argmax(probabilities))\n",
        "    return np.array(y_pred)\n",
        "\n",
        "# Fit Naive Bayes Classifier\n",
        "prior, mean, std = fit_naive_bayes(X_train_extracted, y_train)\n",
        "\n",
        "# Predict using extracted features\n",
        "y_pred_extracted = predict_naive_bayes(X_test_extracted, prior, mean, std)\n",
        "\n",
        "# Calculate accuracy\n",
        "accuracy_extracted = np.mean(y_pred_extracted == y_test)\n",
        "print(\"Accuracy using extracted features:\", accuracy_extracted)\n"
      ]
    },
    {
      "cell_type": "code",
      "source": [
        "# Calculate mean and standard deviation for each feature in each class\n",
        "def fit_naive_bayes(X_train, y_train):\n",
        "    classes = np.unique(y_train)\n",
        "    n_classes = len(classes)\n",
        "    n_features = X_train.shape[1]\n",
        "    means = np.zeros((n_classes, n_features))\n",
        "    stds = np.zeros((n_classes, n_features))\n",
        "\n",
        "    for c in classes:\n",
        "        X_c = X_train[y_train == c]\n",
        "        means[c] = np.mean(X_c, axis=0)\n",
        "        stds[c] = np.std(X_c, axis=0)\n",
        "\n",
        "    return means, stds\n",
        "\n",
        "# Calculate class priors\n",
        "def calculate_priors(y_train):\n",
        "    classes = np.unique(y_train)\n",
        "    priors = np.zeros(len(classes))\n",
        "    for c in classes:\n",
        "        priors[c] = np.sum(y_train == c) / len(y_train)\n",
        "    return priors\n",
        "\n",
        "# Gaussian probability density function\n",
        "def gaussian_pdf(x, mean, std):\n",
        "    exponent = -((x - mean)**2 / (2 * std**2))\n",
        "    return np.exp(exponent) / (np.sqrt(2 * np.pi) * std)\n",
        "\n",
        "# Predict class labels for test set\n",
        "def predict_naive_bayes(X_test, means, stds, priors):\n",
        "    n_samples, n_features = X_test.shape\n",
        "    n_classes = len(means)\n",
        "    likelihoods = np.zeros((n_samples, n_classes))\n",
        "\n",
        "    for i in range(n_samples):\n",
        "        for c in range(n_classes):\n",
        "            likelihood = 1\n",
        "            for f in range(n_features):\n",
        "                likelihood *= gaussian_pdf(X_test[i, f], means[c, f], stds[c, f])\n",
        "            likelihoods[i, c] = likelihood * priors[c]\n",
        "\n",
        "    return np.argmax(likelihoods, axis=1)\n",
        "\n",
        "# Fit Naive Bayes Classifier\n",
        "means, stds = fit_naive_bayes(X_train_normalized, y_train)\n",
        "priors = calculate_priors(y_train)\n",
        "\n",
        "# Predict using the test set\n",
        "y_pred = predict_naive_bayes(X_test_normalized, means, stds, priors)\n",
        "\n",
        "# Calculate accuracy\n",
        "accuracy = np.mean(y_pred == y_test)\n",
        "print(\"Accuracy:\", accuracy)\n"
      ],
      "metadata": {
        "colab": {
          "base_uri": "https://localhost:8080/"
        },
        "id": "n7WMQ1Z5YWEt",
        "outputId": "b10028a4-c593-4809-bf3d-77d8c04ad4f2"
      },
      "execution_count": null,
      "outputs": [
        {
          "output_type": "stream",
          "name": "stdout",
          "text": [
            "Accuracy: 0.9333333333333333\n"
          ]
        }
      ]
    }
  ]
}